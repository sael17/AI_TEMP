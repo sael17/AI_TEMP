{
  "nbformat": 4,
  "nbformat_minor": 0,
  "metadata": {
    "colab": {
      "provenance": [],
      "include_colab_link": true
    },
    "kernelspec": {
      "name": "python3",
      "display_name": "Python 3"
    },
    "language_info": {
      "name": "python"
    }
  },
  "cells": [
    {
      "cell_type": "markdown",
      "metadata": {
        "id": "view-in-github",
        "colab_type": "text"
      },
      "source": [
        "<a href=\"https://colab.research.google.com/github/sael17/AI_TEMP/blob/master/exam.ipynb\" target=\"_parent\"><img src=\"https://colab.research.google.com/assets/colab-badge.svg\" alt=\"Open In Colab\"/></a>"
      ]
    },
    {
      "cell_type": "code",
      "source": [
        "import numpy as np"
      ],
      "metadata": {
        "id": "LJIYJT7dbnko"
      },
      "execution_count": null,
      "outputs": []
    },
    {
      "cell_type": "code",
      "source": [
        "def value_iteration(S, A, T, R, gamma, N):\n",
        "    \"\"\"\n",
        "    Value Iteration Algorithm for solving MDPs with a fixed number of iterations.\n",
        "\n",
        "    Args:\n",
        "    - S (list): List of states in the MDP.\n",
        "    - A (list): List of actions in the MDP.\n",
        "    - T (dict): A dictionary with keys (s, a, s') and values P(s'|s, a), representing the transition probabilities.\n",
        "    - R (dict): A dictionary with keys (s, a, s') and values R(s, a, s'), representing the rewards.\n",
        "    - gamma (float): Discount factor, between 0 and 1.\n",
        "    - N (int): Number of iterations to perform.\n",
        "\n",
        "    Returns:\n",
        "    - V (dict): Dictionary containing the state-value function after N iterations.\n",
        "    - pi_star (dict): Dictionary containing the policy after N iterations.\n",
        "    \"\"\"\n",
        "\n",
        "    # Initialize the value function and policy\n",
        "    V = {s: 0 for s in S}\n",
        "    pi_star = {s: None for s in S}\n",
        "\n",
        "    for k in range(N):\n",
        "        for s in S:\n",
        "            action_values = []\n",
        "            for a in A:\n",
        "                action_value = 0\n",
        "                for s_prime in S:\n",
        "                    probability = T.get((s, a, s_prime), 0)\n",
        "                    reward = R.get((s, a, s_prime), 0)\n",
        "                    action_value += probability * (reward + gamma * V[s_prime])\n",
        "                action_values.append(action_value)\n",
        "\n",
        "            # Update the value function and policy\n",
        "            V[s] = max(action_values)\n",
        "            pi_star[s] = A[np.argmax(action_values)]\n",
        "\n",
        "    return V, pi_star\n"
      ],
      "metadata": {
        "id": "jOsvUgA0bgSz"
      },
      "execution_count": null,
      "outputs": []
    },
    {
      "cell_type": "code",
      "execution_count": null,
      "metadata": {
        "colab": {
          "base_uri": "https://localhost:8080/"
        },
        "id": "Hg9OYoBebdLl",
        "outputId": "f3f39adc-08aa-45d6-c802-29eea01876da"
      },
      "outputs": [
        {
          "output_type": "stream",
          "name": "stdout",
          "text": [
            "{((0, 0), 'Up', (0, 0)): 1, ((0, 0), 'Up', (0, 1)): 0, ((0, 0), 'Up', (0, 2)): 0, ((0, 0), 'Up', (1, 0)): 0, ((0, 0), 'Up', (1, 1)): 0, ((0, 0), 'Up', (1, 2)): 0, ((0, 0), 'Up', (2, 0)): 0, ((0, 0), 'Up', (2, 1)): 0, ((0, 0), 'Up', (2, 2)): 0, ((0, 0), 'Down', (0, 0)): 1, ((0, 0), 'Down', (0, 1)): 0, ((0, 0), 'Down', (0, 2)): 0, ((0, 0), 'Down', (1, 0)): 0, ((0, 0), 'Down', (1, 1)): 0, ((0, 0), 'Down', (1, 2)): 0, ((0, 0), 'Down', (2, 0)): 0, ((0, 0), 'Down', (2, 1)): 0, ((0, 0), 'Down', (2, 2)): 0, ((0, 0), 'Left', (0, 0)): 1, ((0, 0), 'Left', (0, 1)): 0, ((0, 0), 'Left', (0, 2)): 0, ((0, 0), 'Left', (1, 0)): 0, ((0, 0), 'Left', (1, 1)): 0, ((0, 0), 'Left', (1, 2)): 0, ((0, 0), 'Left', (2, 0)): 0, ((0, 0), 'Left', (2, 1)): 0, ((0, 0), 'Left', (2, 2)): 0, ((0, 0), 'Right', (0, 0)): 1, ((0, 0), 'Right', (0, 1)): 0, ((0, 0), 'Right', (0, 2)): 0, ((0, 0), 'Right', (1, 0)): 0, ((0, 0), 'Right', (1, 1)): 0, ((0, 0), 'Right', (1, 2)): 0, ((0, 0), 'Right', (2, 0)): 0, ((0, 0), 'Right', (2, 1)): 0, ((0, 0), 'Right', (2, 2)): 0, ((0, 1), 'Up', (0, 0)): 0, ((0, 1), 'Up', (0, 1)): 1, ((0, 1), 'Up', (0, 2)): 0, ((0, 1), 'Up', (1, 0)): 0, ((0, 1), 'Up', (1, 1)): 0, ((0, 1), 'Up', (1, 2)): 0, ((0, 1), 'Up', (2, 0)): 0, ((0, 1), 'Up', (2, 1)): 0, ((0, 1), 'Up', (2, 2)): 0, ((0, 1), 'Down', (0, 0)): 0, ((0, 1), 'Down', (0, 1)): 0, ((0, 1), 'Down', (0, 2)): 0, ((0, 1), 'Down', (1, 0)): 0, ((0, 1), 'Down', (1, 1)): 1, ((0, 1), 'Down', (1, 2)): 0, ((0, 1), 'Down', (2, 0)): 0, ((0, 1), 'Down', (2, 1)): 0, ((0, 1), 'Down', (2, 2)): 0, ((0, 1), 'Left', (0, 0)): 1, ((0, 1), 'Left', (0, 1)): 0, ((0, 1), 'Left', (0, 2)): 0, ((0, 1), 'Left', (1, 0)): 0, ((0, 1), 'Left', (1, 1)): 0, ((0, 1), 'Left', (1, 2)): 0, ((0, 1), 'Left', (2, 0)): 0, ((0, 1), 'Left', (2, 1)): 0, ((0, 1), 'Left', (2, 2)): 0, ((0, 1), 'Right', (0, 0)): 0, ((0, 1), 'Right', (0, 1)): 0, ((0, 1), 'Right', (0, 2)): 1, ((0, 1), 'Right', (1, 0)): 0, ((0, 1), 'Right', (1, 1)): 0, ((0, 1), 'Right', (1, 2)): 0, ((0, 1), 'Right', (2, 0)): 0, ((0, 1), 'Right', (2, 1)): 0, ((0, 1), 'Right', (2, 2)): 0, ((0, 2), 'Up', (0, 0)): 0, ((0, 2), 'Up', (0, 1)): 0, ((0, 2), 'Up', (0, 2)): 1, ((0, 2), 'Up', (1, 0)): 0, ((0, 2), 'Up', (1, 1)): 0, ((0, 2), 'Up', (1, 2)): 0, ((0, 2), 'Up', (2, 0)): 0, ((0, 2), 'Up', (2, 1)): 0, ((0, 2), 'Up', (2, 2)): 0, ((0, 2), 'Down', (0, 0)): 0, ((0, 2), 'Down', (0, 1)): 0, ((0, 2), 'Down', (0, 2)): 0, ((0, 2), 'Down', (1, 0)): 0, ((0, 2), 'Down', (1, 1)): 0, ((0, 2), 'Down', (1, 2)): 1, ((0, 2), 'Down', (2, 0)): 0, ((0, 2), 'Down', (2, 1)): 0, ((0, 2), 'Down', (2, 2)): 0, ((0, 2), 'Left', (0, 0)): 0, ((0, 2), 'Left', (0, 1)): 1, ((0, 2), 'Left', (0, 2)): 0, ((0, 2), 'Left', (1, 0)): 0, ((0, 2), 'Left', (1, 1)): 0, ((0, 2), 'Left', (1, 2)): 0, ((0, 2), 'Left', (2, 0)): 0, ((0, 2), 'Left', (2, 1)): 0, ((0, 2), 'Left', (2, 2)): 0, ((0, 2), 'Right', (0, 0)): 0, ((0, 2), 'Right', (0, 1)): 0, ((0, 2), 'Right', (0, 2)): 1, ((0, 2), 'Right', (1, 0)): 0, ((0, 2), 'Right', (1, 1)): 0, ((0, 2), 'Right', (1, 2)): 0, ((0, 2), 'Right', (2, 0)): 0, ((0, 2), 'Right', (2, 1)): 0, ((0, 2), 'Right', (2, 2)): 0, ((1, 0), 'Up', (0, 0)): 1, ((1, 0), 'Up', (0, 1)): 0, ((1, 0), 'Up', (0, 2)): 0, ((1, 0), 'Up', (1, 0)): 0, ((1, 0), 'Up', (1, 1)): 0, ((1, 0), 'Up', (1, 2)): 0, ((1, 0), 'Up', (2, 0)): 0, ((1, 0), 'Up', (2, 1)): 0, ((1, 0), 'Up', (2, 2)): 0, ((1, 0), 'Down', (0, 0)): 0, ((1, 0), 'Down', (0, 1)): 0, ((1, 0), 'Down', (0, 2)): 0, ((1, 0), 'Down', (1, 0)): 0, ((1, 0), 'Down', (1, 1)): 0, ((1, 0), 'Down', (1, 2)): 0, ((1, 0), 'Down', (2, 0)): 1, ((1, 0), 'Down', (2, 1)): 0, ((1, 0), 'Down', (2, 2)): 0, ((1, 0), 'Left', (0, 0)): 0, ((1, 0), 'Left', (0, 1)): 0, ((1, 0), 'Left', (0, 2)): 0, ((1, 0), 'Left', (1, 0)): 1, ((1, 0), 'Left', (1, 1)): 0, ((1, 0), 'Left', (1, 2)): 0, ((1, 0), 'Left', (2, 0)): 0, ((1, 0), 'Left', (2, 1)): 0, ((1, 0), 'Left', (2, 2)): 0, ((1, 0), 'Right', (0, 0)): 0, ((1, 0), 'Right', (0, 1)): 0, ((1, 0), 'Right', (0, 2)): 0, ((1, 0), 'Right', (1, 0)): 0, ((1, 0), 'Right', (1, 1)): 1, ((1, 0), 'Right', (1, 2)): 0, ((1, 0), 'Right', (2, 0)): 0, ((1, 0), 'Right', (2, 1)): 0, ((1, 0), 'Right', (2, 2)): 0, ((1, 1), 'Up', (0, 0)): 0, ((1, 1), 'Up', (0, 1)): 1, ((1, 1), 'Up', (0, 2)): 0, ((1, 1), 'Up', (1, 0)): 0, ((1, 1), 'Up', (1, 1)): 0, ((1, 1), 'Up', (1, 2)): 0, ((1, 1), 'Up', (2, 0)): 0, ((1, 1), 'Up', (2, 1)): 0, ((1, 1), 'Up', (2, 2)): 0, ((1, 1), 'Down', (0, 0)): 0, ((1, 1), 'Down', (0, 1)): 0, ((1, 1), 'Down', (0, 2)): 0, ((1, 1), 'Down', (1, 0)): 0, ((1, 1), 'Down', (1, 1)): 0, ((1, 1), 'Down', (1, 2)): 0, ((1, 1), 'Down', (2, 0)): 0, ((1, 1), 'Down', (2, 1)): 1, ((1, 1), 'Down', (2, 2)): 0, ((1, 1), 'Left', (0, 0)): 0, ((1, 1), 'Left', (0, 1)): 0, ((1, 1), 'Left', (0, 2)): 0, ((1, 1), 'Left', (1, 0)): 1, ((1, 1), 'Left', (1, 1)): 0, ((1, 1), 'Left', (1, 2)): 0, ((1, 1), 'Left', (2, 0)): 0, ((1, 1), 'Left', (2, 1)): 0, ((1, 1), 'Left', (2, 2)): 0, ((1, 1), 'Right', (0, 0)): 0, ((1, 1), 'Right', (0, 1)): 0, ((1, 1), 'Right', (0, 2)): 0, ((1, 1), 'Right', (1, 0)): 0, ((1, 1), 'Right', (1, 1)): 0, ((1, 1), 'Right', (1, 2)): 1, ((1, 1), 'Right', (2, 0)): 0, ((1, 1), 'Right', (2, 1)): 0, ((1, 1), 'Right', (2, 2)): 0, ((1, 2), 'Up', (0, 0)): 0, ((1, 2), 'Up', (0, 1)): 0, ((1, 2), 'Up', (0, 2)): 1, ((1, 2), 'Up', (1, 0)): 0, ((1, 2), 'Up', (1, 1)): 0, ((1, 2), 'Up', (1, 2)): 0, ((1, 2), 'Up', (2, 0)): 0, ((1, 2), 'Up', (2, 1)): 0, ((1, 2), 'Up', (2, 2)): 0, ((1, 2), 'Down', (0, 0)): 0, ((1, 2), 'Down', (0, 1)): 0, ((1, 2), 'Down', (0, 2)): 0, ((1, 2), 'Down', (1, 0)): 0, ((1, 2), 'Down', (1, 1)): 0, ((1, 2), 'Down', (1, 2)): 0, ((1, 2), 'Down', (2, 0)): 0, ((1, 2), 'Down', (2, 1)): 0, ((1, 2), 'Down', (2, 2)): 1, ((1, 2), 'Left', (0, 0)): 0, ((1, 2), 'Left', (0, 1)): 0, ((1, 2), 'Left', (0, 2)): 0, ((1, 2), 'Left', (1, 0)): 0, ((1, 2), 'Left', (1, 1)): 1, ((1, 2), 'Left', (1, 2)): 0, ((1, 2), 'Left', (2, 0)): 0, ((1, 2), 'Left', (2, 1)): 0, ((1, 2), 'Left', (2, 2)): 0, ((1, 2), 'Right', (0, 0)): 0, ((1, 2), 'Right', (0, 1)): 0, ((1, 2), 'Right', (0, 2)): 0, ((1, 2), 'Right', (1, 0)): 0, ((1, 2), 'Right', (1, 1)): 0, ((1, 2), 'Right', (1, 2)): 1, ((1, 2), 'Right', (2, 0)): 0, ((1, 2), 'Right', (2, 1)): 0, ((1, 2), 'Right', (2, 2)): 0, ((2, 0), 'Up', (0, 0)): 0, ((2, 0), 'Up', (0, 1)): 0, ((2, 0), 'Up', (0, 2)): 0, ((2, 0), 'Up', (1, 0)): 1, ((2, 0), 'Up', (1, 1)): 0, ((2, 0), 'Up', (1, 2)): 0, ((2, 0), 'Up', (2, 0)): 0, ((2, 0), 'Up', (2, 1)): 0, ((2, 0), 'Up', (2, 2)): 0, ((2, 0), 'Down', (0, 0)): 0, ((2, 0), 'Down', (0, 1)): 0, ((2, 0), 'Down', (0, 2)): 0, ((2, 0), 'Down', (1, 0)): 0, ((2, 0), 'Down', (1, 1)): 0, ((2, 0), 'Down', (1, 2)): 0, ((2, 0), 'Down', (2, 0)): 1, ((2, 0), 'Down', (2, 1)): 0, ((2, 0), 'Down', (2, 2)): 0, ((2, 0), 'Left', (0, 0)): 0, ((2, 0), 'Left', (0, 1)): 0, ((2, 0), 'Left', (0, 2)): 0, ((2, 0), 'Left', (1, 0)): 0, ((2, 0), 'Left', (1, 1)): 0, ((2, 0), 'Left', (1, 2)): 0, ((2, 0), 'Left', (2, 0)): 1, ((2, 0), 'Left', (2, 1)): 0, ((2, 0), 'Left', (2, 2)): 0, ((2, 0), 'Right', (0, 0)): 0, ((2, 0), 'Right', (0, 1)): 0, ((2, 0), 'Right', (0, 2)): 0, ((2, 0), 'Right', (1, 0)): 0, ((2, 0), 'Right', (1, 1)): 0, ((2, 0), 'Right', (1, 2)): 0, ((2, 0), 'Right', (2, 0)): 0, ((2, 0), 'Right', (2, 1)): 1, ((2, 0), 'Right', (2, 2)): 0, ((2, 1), 'Up', (0, 0)): 0, ((2, 1), 'Up', (0, 1)): 0, ((2, 1), 'Up', (0, 2)): 0, ((2, 1), 'Up', (1, 0)): 0, ((2, 1), 'Up', (1, 1)): 1, ((2, 1), 'Up', (1, 2)): 0, ((2, 1), 'Up', (2, 0)): 0, ((2, 1), 'Up', (2, 1)): 0, ((2, 1), 'Up', (2, 2)): 0, ((2, 1), 'Down', (0, 0)): 0, ((2, 1), 'Down', (0, 1)): 0, ((2, 1), 'Down', (0, 2)): 0, ((2, 1), 'Down', (1, 0)): 0, ((2, 1), 'Down', (1, 1)): 0, ((2, 1), 'Down', (1, 2)): 0, ((2, 1), 'Down', (2, 0)): 0, ((2, 1), 'Down', (2, 1)): 1, ((2, 1), 'Down', (2, 2)): 0, ((2, 1), 'Left', (0, 0)): 0, ((2, 1), 'Left', (0, 1)): 0, ((2, 1), 'Left', (0, 2)): 0, ((2, 1), 'Left', (1, 0)): 0, ((2, 1), 'Left', (1, 1)): 0, ((2, 1), 'Left', (1, 2)): 0, ((2, 1), 'Left', (2, 0)): 1, ((2, 1), 'Left', (2, 1)): 0, ((2, 1), 'Left', (2, 2)): 0, ((2, 1), 'Right', (0, 0)): 0, ((2, 1), 'Right', (0, 1)): 0, ((2, 1), 'Right', (0, 2)): 0, ((2, 1), 'Right', (1, 0)): 0, ((2, 1), 'Right', (1, 1)): 0, ((2, 1), 'Right', (1, 2)): 0, ((2, 1), 'Right', (2, 0)): 0, ((2, 1), 'Right', (2, 1)): 0, ((2, 1), 'Right', (2, 2)): 1, ((2, 2), 'Up', (0, 0)): 0, ((2, 2), 'Up', (0, 1)): 0, ((2, 2), 'Up', (0, 2)): 0, ((2, 2), 'Up', (1, 0)): 0, ((2, 2), 'Up', (1, 1)): 0, ((2, 2), 'Up', (1, 2)): 0, ((2, 2), 'Up', (2, 0)): 0, ((2, 2), 'Up', (2, 1)): 0, ((2, 2), 'Up', (2, 2)): 1, ((2, 2), 'Down', (0, 0)): 0, ((2, 2), 'Down', (0, 1)): 0, ((2, 2), 'Down', (0, 2)): 0, ((2, 2), 'Down', (1, 0)): 0, ((2, 2), 'Down', (1, 1)): 0, ((2, 2), 'Down', (1, 2)): 0, ((2, 2), 'Down', (2, 0)): 0, ((2, 2), 'Down', (2, 1)): 0, ((2, 2), 'Down', (2, 2)): 1, ((2, 2), 'Left', (0, 0)): 0, ((2, 2), 'Left', (0, 1)): 0, ((2, 2), 'Left', (0, 2)): 0, ((2, 2), 'Left', (1, 0)): 0, ((2, 2), 'Left', (1, 1)): 0, ((2, 2), 'Left', (1, 2)): 0, ((2, 2), 'Left', (2, 0)): 0, ((2, 2), 'Left', (2, 1)): 0, ((2, 2), 'Left', (2, 2)): 1, ((2, 2), 'Right', (0, 0)): 0, ((2, 2), 'Right', (0, 1)): 0, ((2, 2), 'Right', (0, 2)): 0, ((2, 2), 'Right', (1, 0)): 0, ((2, 2), 'Right', (1, 1)): 0, ((2, 2), 'Right', (1, 2)): 0, ((2, 2), 'Right', (2, 0)): 0, ((2, 2), 'Right', (2, 1)): 0, ((2, 2), 'Right', (2, 2)): 1}\n",
            "Value function:\n",
            "0.00 -1.00 -1.90 \n",
            "-1.00 -1.90 -1.00 \n",
            "-1.90 -1.00 0.00 \n",
            "\n",
            "Optimal policy:\n",
            "Up Left Down \n",
            "Up Up Down \n",
            "Up Right Up \n"
          ]
        }
      ],
      "source": [
        "# Define the states, actions, and initial values\n",
        "states = [(i, j) for i in range(3) for j in range(3)]\n",
        "actions = ['Up', 'Down', 'Left', 'Right']\n",
        "\n",
        "# Define the transition probabilities and rewards\n",
        "transition_probs = {}\n",
        "rewards = {}\n",
        "\n",
        "for s in states:\n",
        "    for a in actions:\n",
        "        for s_prime in states:\n",
        "            if s == (0, 0) or s == (2, 2):\n",
        "                # Terminal states\n",
        "                transition_probs[s, a, s_prime] = 1 if s == s_prime else 0\n",
        "                rewards[s, a, s_prime] = 0\n",
        "            else:\n",
        "                # Non-terminal states\n",
        "                next_state = None\n",
        "                if a == 'Up':\n",
        "                    next_state = (s[0] - 1, s[1])\n",
        "                elif a == 'Down':\n",
        "                    next_state = (s[0] + 1, s[1])\n",
        "                elif a == 'Left':\n",
        "                    next_state = (s[0], s[1] - 1)\n",
        "                elif a == 'Right':\n",
        "                    next_state = (s[0], s[1] + 1)\n",
        "\n",
        "                next_state = (max(0, min(next_state[0], 2)), max(0, min(next_state[1], 2)))\n",
        "                transition_probs[s, a, s_prime] = 1 if s_prime == next_state else 0\n",
        "                rewards[s, a, s_prime] = -1 if s_prime == next_state else 0\n",
        "\n",
        "print(transition_probs)\n",
        "# Define the discount factor and number of iterations\n",
        "gamma = 0.9\n",
        "N = 100\n",
        "\n",
        "# Run the value iteration algorithm\n",
        "V, pi_star = value_iteration(states, actions, transition_probs, rewards, gamma, N)\n",
        "# Print the results\n",
        "print(\"Value function:\")\n",
        "for i in range(3):\n",
        "    for j in range(3):\n",
        "        print(f\"{V[(i, j)]:.2f}\", end=\" \")\n",
        "    print()\n",
        "\n",
        "print(\"\\nOptimal policy:\")\n",
        "for i in range(3):\n",
        "    for j in range(3):\n",
        "        print(pi_star[(i, j)], end=\" \")\n",
        "    print()\n"
      ]
    },
    {
      "cell_type": "markdown",
      "source": [
        "### Backtracking"
      ],
      "metadata": {
        "id": "R0F9JwHjrO2B"
      }
    },
    {
      "cell_type": "code",
      "source": [
        "def backtracking_search(csp):\n",
        "    return recursive_backtracking({}, csp)\n",
        "\n",
        "def recursive_backtracking(assignment, csp):\n",
        "    if len(assignment) == len(csp['Variables']):\n",
        "        return assignment\n",
        "\n",
        "    var = select_unassigned_variable(csp['Variables'], assignment, csp)\n",
        "    for value in order_domain_values(var, assignment, csp):\n",
        "        if is_consistent(var, value, assignment, csp):\n",
        "            assignment[var] = value\n",
        "            result = recursive_backtracking(assignment, csp)\n",
        "            if result is not None:\n",
        "                return result\n",
        "            del assignment[var]\n",
        "\n",
        "    return None\n",
        "\n",
        "def select_unassigned_variable(variables, assignment, csp):\n",
        "    for var in variables:\n",
        "        if var not in assignment:\n",
        "            return var\n",
        "\n",
        "def order_domain_values(var, assignment, csp):\n",
        "    values = csp['Domain'][var]\n",
        "    if 'Ordering' in csp:\n",
        "        order_function = csp['Ordering']\n",
        "        values = sorted(values, key=lambda value: order_function(var, value, assignment, csp))\n",
        "    return values\n",
        "\n",
        "def is_consistent(var, value, assignment, csp):\n",
        "    for constraint in csp['Constraints']:\n",
        "        if var in constraint['Scope'] and not constraint['Function'](var, value, assignment, csp):\n",
        "            return False\n",
        "    return True"
      ],
      "metadata": {
        "id": "TmZdwUohNAfG"
      },
      "execution_count": null,
      "outputs": []
    },
    {
      "cell_type": "markdown",
      "source": [
        "### Improved backtracking with filtering"
      ],
      "metadata": {
        "id": "QsgubhVtl3lz"
      }
    },
    {
      "cell_type": "code",
      "source": [
        "def backtracking_search(csp):\n",
        "  return backtrack({},csp)\n",
        "\n",
        "def backtrack(assignment,csp):\n",
        "  # check if the assignment is complete\n",
        "  if len(assignment) == len(csp['Variables']):\n",
        "    return assignment\n",
        "\n",
        "  var = select_unassigned_variable(csp,assignment)\n",
        "  for value in order_domain_values(var,csp,assignment):\n",
        "    if is_consistent(value):\n",
        "      assignment[var] = value\n",
        "      # filtering step\n",
        "      inferences = inference(csp,var,assignment)\n",
        "      if inferences != None:\n",
        "        csp['Inferences'].append(inferences)\n",
        "        result = backtrack(csp,assignment)\n",
        "        if result != None:\n",
        "          return result\n",
        "        del csp['Inferences'].find(inferences)\n",
        "      del assignment[var]\n",
        "  return None"
      ],
      "metadata": {
        "id": "cqWe490Ol2Am"
      },
      "execution_count": null,
      "outputs": []
    },
    {
      "cell_type": "code",
      "source": [
        "def select_unassigned_variable(csp,assignment):\n",
        "  for variable in csp['Variables']:\n",
        "    if variable not in assignment:\n",
        "      return variable\n",
        "\n",
        "def order_domain_values(var,assignment,csp):\n",
        "  values = csp['Domain'][var]\n",
        "  if 'Ordering' in csp:\n",
        "    order_functions = csp['Ordering']\n",
        "    values = sorted(values,key=lambda value: order_function(var,value,assignment,csp))\n",
        "  return values\n",
        "\n",
        "def is_consistent(var,value,assignment,csp):\n",
        "  for constraint in csp['Constraints']:\n",
        "    if var in constraint['Scope'] and constraint['Function'](var,value,assignment,csp):\n",
        "      return False\n",
        "  return True\n"
      ],
      "metadata": {
        "id": "QnlTLB11ndsr"
      },
      "execution_count": null,
      "outputs": []
    },
    {
      "cell_type": "markdown",
      "source": [
        "### Practice Code Sebastian"
      ],
      "metadata": {
        "id": "rmesCciuauWl"
      }
    },
    {
      "cell_type": "code",
      "source": [
        "def backtracking_search(csp):\n",
        "  return recursive_backtracking({},csp)\n",
        "\n",
        "def recursive_backtracking(assignment,csp):\n",
        "  if len(assignment) == len(csp['Variables']):\n",
        "    return assignment\n",
        "\n",
        "  var = select_unassigned_variable(csp['Variables'],assignment,csp)\n",
        "  for value in order_domain_values(var,assignment,csp):\n",
        "    if is_consistent(var,value,assignment,csp):\n",
        "      assignment[var] = value\n",
        "      result = recursive_backtracking(assignment,csp)\n",
        "      if result is not None:\n",
        "        return result\n",
        "      del assignment[var]\n",
        "  return None"
      ],
      "metadata": {
        "id": "PEGLvQCgXlyT"
      },
      "execution_count": null,
      "outputs": []
    },
    {
      "cell_type": "code",
      "source": [
        "def select_unassigned_variable(variables,assignment,csp):\n",
        "  for variable in variables:\n",
        "    if variable not in assignment:\n",
        "      return variable\n",
        "\n",
        "def order_domain_values(var,assignment,csp):\n",
        "  values = csp['Domain'][var]\n",
        "  if 'Ordering' in csp:\n",
        "    order_functions = csp['Ordering']\n",
        "    values = sorted(values,key=lambda value: order_function(var,value,assignment,csp))\n",
        "  return values\n",
        "\n",
        "def is_consistent(var,value,assignment,csp):\n",
        "  for constraint in csp['Constraints']:\n",
        "    if var in constraint['Scope'] and constraint['Function'](var,value,assignment,csp):\n",
        "      return True\n",
        "  return False"
      ],
      "metadata": {
        "id": "H9VSNy3kY4Mt"
      },
      "execution_count": null,
      "outputs": []
    }
  ]
}